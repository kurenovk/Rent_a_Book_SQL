{
 "cells": [
  {
   "cell_type": "markdown",
   "metadata": {},
   "source": [
    "# Проект по SQL: Книги по подписке\n",
    "\n",
    "**Описание проекта**\n",
    "\n",
    "Коронавирус застал мир врасплох, изменив привычный порядок вещей. На какое-то время жители городов перестали выходить на улицу, посещать кафе и торговые центры. Зато стало больше времени для книг. Это заметили стартаперы — и бросились создавать приложения для тех, кто любит читать.\n",
    "\n",
    "Ваша компания решила быть на волне и купила крупный сервис для чтения книг по подписке. Ваша первая задача как аналитика — проанализировать базу данных.\n",
    "\n",
    "В ней — информация о книгах, издательствах, авторах, а также пользовательские обзоры книг. Эти данные помогут сформулировать ценностное предложение для нового продукта.\n",
    "\n",
    "**Описание данных**\n",
    "\n",
    "Таблица **books** содержит данные о книгах:\n",
    "\n",
    "- book_id — идентификатор книги;\n",
    "- author_id — идентификатор автора;\n",
    "- title — название книги;\n",
    "- num_pages — количество страниц;\n",
    "- publication_date — дата публикации книги;\n",
    "- publisher_id — идентификатор издателя.\n",
    "\n",
    "Таблица **authors** содержит данные об авторах:\n",
    "\n",
    "- author_id — идентификатор автора;\n",
    "- author — имя автора.\n",
    "\n",
    "Таблица **publishers** содержит данные об издательствах:\n",
    "- publisher_id — идентификатор издательства;\n",
    "- publisher — название издательства.\n",
    "\n",
    "Таблица **ratings** содержит данные о пользовательских оценках книг:\n",
    "\n",
    "- rating_id — идентификатор оценки;\n",
    "- book_id — идентификатор книги;\n",
    "- username — имя пользователя, оставившего оценку;\n",
    "- rating — оценка книги.\n",
    "\n",
    "Таблица **reviews** содержит данные о пользовательских обзорах:\n",
    "\n",
    "- review_id — идентификатор обзора;\n",
    "- book_id — идентификатор книги;\n",
    "- username — имя автора обзора;\n",
    "- text — текст обзора.\n",
    "\n",
    "[Схема данных](https://disk.yandex.ru/i/YJanXmVOmojr1w)\n",
    "\n",
    "**Цели исследования**\n",
    "\n",
    "- Посчитайте, сколько книг вышло после 1 января 2000 года;\n",
    "- Для каждой книги посчитайте количество обзоров и среднюю оценку;\n",
    "- Определите издательство, которое выпустило наибольшее число книг толще 50 страниц — так вы исключите из анализа брошюры;\n",
    "- Определите автора с самой высокой средней оценкой книг — учитывайте только книги с 50 и более оценками;\n",
    "- Посчитайте среднее количество обзоров от пользователей, которые поставили больше 48 оценок."
   ]
  },
  {
   "cell_type": "markdown",
   "metadata": {},
   "source": [
    "# Подключение к базе данных"
   ]
  },
  {
   "cell_type": "markdown",
   "metadata": {},
   "source": [
    "Загрузим библиотеки."
   ]
  },
  {
   "cell_type": "code",
   "execution_count": 2,
   "metadata": {},
   "outputs": [],
   "source": [
    "import pandas as pd\n",
    "import sqlalchemy as sa\n",
    "from sqlalchemy import text, create_engine\n",
    "from IPython.display import Image"
   ]
  },
  {
   "cell_type": "code",
   "execution_count": 3,
   "metadata": {},
   "outputs": [
    {
     "name": "stdout",
     "output_type": "stream",
     "text": [
      "Requirement already satisfied: psycopg2 in c:\\users\\pc\\anaconda3\\lib\\site-packages (2.9.9)\n"
     ]
    }
   ],
   "source": [
    "!pip install psycopg2"
   ]
  },
  {
   "cell_type": "markdown",
   "metadata": {},
   "source": [
    "Установим параметры и сохраним коннектор."
   ]
  },
  {
   "cell_type": "code",
   "execution_count": 4,
   "metadata": {
    "scrolled": true
   },
   "outputs": [],
   "source": [
    "db_config = {\n",
    "            'user': 'praktikum_student', # имя пользователя\n",
    "            'pwd': 'Sdf4$2;d-d30pp', # пароль\n",
    "            'host': 'rc1b-wcoijxj3yxfsf3fs.mdb.yandexcloud.net',\n",
    "            'port': 6432, # порт подключения\n",
    "            'db': 'data-analyst-final-project-db' # название базы данных\n",
    "            }\n",
    "connection_string = 'postgresql://{user}:{pwd}@{host}:{port}/{db}'.format(**db_config)\n",
    "engine = sa.create_engine(connection_string, connect_args={'sslmode':'require'})"
   ]
  },
  {
   "cell_type": "code",
   "execution_count": 5,
   "metadata": {},
   "outputs": [],
   "source": [
    "# устанавливаем параметры\n",
    "db_config = {'user': 'praktikum_student', # имя пользователя\n",
    "'pwd': 'Sdf4$2;d-d30pp', # пароль\n",
    "'host': 'rc1b-wcoijxj3yxfsf3fs.mdb.yandexcloud.net',\n",
    "'port': 6432, # порт подключения\n",
    "'db': 'data-analyst-final-project-db'} # название базы данных\n",
    "connection_string = 'postgresql://{user}:{pwd}@{host}:{port}/{db}'.format(**db_config)"
   ]
  },
  {
   "cell_type": "code",
   "execution_count": 6,
   "metadata": {},
   "outputs": [],
   "source": [
    "# сохраняем коннектор\n",
    "engine = create_engine(connection_string, connect_args={'sslmode':'require'})"
   ]
  },
  {
   "cell_type": "markdown",
   "metadata": {},
   "source": [
    "### Исследуем данные"
   ]
  },
  {
   "cell_type": "code",
   "execution_count": 7,
   "metadata": {},
   "outputs": [
    {
     "data": {
      "text/html": [
       "<img src=\"https://github.com/kurenovk/YP_Books_SQL/blob/main/DATA/data_scheme.png?raw=true\"/>"
      ],
      "text/plain": [
       "<IPython.core.display.Image object>"
      ]
     },
     "execution_count": 7,
     "metadata": {},
     "output_type": "execute_result"
    }
   ],
   "source": [
    "Image(url='https://github.com/kurenovk/YP_Books_SQL/blob/main/DATA/data_scheme.png?raw=true')"
   ]
  },
  {
   "cell_type": "markdown",
   "metadata": {},
   "source": [
    "Зададим функцию для выполнения SQL-запроса с помощью Pandas."
   ]
  },
  {
   "cell_type": "code",
   "execution_count": 8,
   "metadata": {},
   "outputs": [],
   "source": [
    "def get_sql_data(query:str, engine:sa.engine.base.Engine=engine) -> pd.DataFrame:\n",
    "    '''Открываем соединение, получаем данные из sql, закрываем соединение'''\n",
    "    with engine.connect() as con:\n",
    "        return pd.read_sql(sql=sa.text(query), con = con)"
   ]
  },
  {
   "cell_type": "markdown",
   "metadata": {},
   "source": [
    "Для каждой таблицы выведем первые 5 строк, количество строк и общую информацию."
   ]
  },
  {
   "cell_type": "markdown",
   "metadata": {},
   "source": [
    "Таблица `books`:"
   ]
  },
  {
   "cell_type": "code",
   "execution_count": 9,
   "metadata": {},
   "outputs": [
    {
     "data": {
      "text/html": [
       "<div>\n",
       "<style scoped>\n",
       "    .dataframe tbody tr th:only-of-type {\n",
       "        vertical-align: middle;\n",
       "    }\n",
       "\n",
       "    .dataframe tbody tr th {\n",
       "        vertical-align: top;\n",
       "    }\n",
       "\n",
       "    .dataframe thead th {\n",
       "        text-align: right;\n",
       "    }\n",
       "</style>\n",
       "<table border=\"1\" class=\"dataframe\">\n",
       "  <thead>\n",
       "    <tr style=\"text-align: right;\">\n",
       "      <th></th>\n",
       "      <th>book_id</th>\n",
       "      <th>author_id</th>\n",
       "      <th>title</th>\n",
       "      <th>num_pages</th>\n",
       "      <th>publication_date</th>\n",
       "      <th>publisher_id</th>\n",
       "    </tr>\n",
       "  </thead>\n",
       "  <tbody>\n",
       "    <tr>\n",
       "      <th>0</th>\n",
       "      <td>1</td>\n",
       "      <td>546</td>\n",
       "      <td>'Salem's Lot</td>\n",
       "      <td>594</td>\n",
       "      <td>2005-11-01</td>\n",
       "      <td>93</td>\n",
       "    </tr>\n",
       "    <tr>\n",
       "      <th>1</th>\n",
       "      <td>2</td>\n",
       "      <td>465</td>\n",
       "      <td>1 000 Places to See Before You Die</td>\n",
       "      <td>992</td>\n",
       "      <td>2003-05-22</td>\n",
       "      <td>336</td>\n",
       "    </tr>\n",
       "    <tr>\n",
       "      <th>2</th>\n",
       "      <td>3</td>\n",
       "      <td>407</td>\n",
       "      <td>13 Little Blue Envelopes (Little Blue Envelope...</td>\n",
       "      <td>322</td>\n",
       "      <td>2010-12-21</td>\n",
       "      <td>135</td>\n",
       "    </tr>\n",
       "    <tr>\n",
       "      <th>3</th>\n",
       "      <td>4</td>\n",
       "      <td>82</td>\n",
       "      <td>1491: New Revelations of the Americas Before C...</td>\n",
       "      <td>541</td>\n",
       "      <td>2006-10-10</td>\n",
       "      <td>309</td>\n",
       "    </tr>\n",
       "    <tr>\n",
       "      <th>4</th>\n",
       "      <td>5</td>\n",
       "      <td>125</td>\n",
       "      <td>1776</td>\n",
       "      <td>386</td>\n",
       "      <td>2006-07-04</td>\n",
       "      <td>268</td>\n",
       "    </tr>\n",
       "  </tbody>\n",
       "</table>\n",
       "</div>"
      ],
      "text/plain": [
       "   book_id  author_id                                              title  \\\n",
       "0        1        546                                       'Salem's Lot   \n",
       "1        2        465                 1 000 Places to See Before You Die   \n",
       "2        3        407  13 Little Blue Envelopes (Little Blue Envelope...   \n",
       "3        4         82  1491: New Revelations of the Americas Before C...   \n",
       "4        5        125                                               1776   \n",
       "\n",
       "   num_pages publication_date  publisher_id  \n",
       "0        594       2005-11-01            93  \n",
       "1        992       2003-05-22           336  \n",
       "2        322       2010-12-21           135  \n",
       "3        541       2006-10-10           309  \n",
       "4        386       2006-07-04           268  "
      ]
     },
     "execution_count": 9,
     "metadata": {},
     "output_type": "execute_result"
    }
   ],
   "source": [
    "query = ''' SELECT *\n",
    "            FROM books LIMIT 5 '''\n",
    "\n",
    "get_sql_data(query)"
   ]
  },
  {
   "cell_type": "markdown",
   "metadata": {},
   "source": [
    "Посчитаем количество строк в таблице `books`."
   ]
  },
  {
   "cell_type": "code",
   "execution_count": 18,
   "metadata": {},
   "outputs": [
    {
     "data": {
      "text/html": [
       "<div>\n",
       "<style scoped>\n",
       "    .dataframe tbody tr th:only-of-type {\n",
       "        vertical-align: middle;\n",
       "    }\n",
       "\n",
       "    .dataframe tbody tr th {\n",
       "        vertical-align: top;\n",
       "    }\n",
       "\n",
       "    .dataframe thead th {\n",
       "        text-align: right;\n",
       "    }\n",
       "</style>\n",
       "<table border=\"1\" class=\"dataframe\">\n",
       "  <thead>\n",
       "    <tr style=\"text-align: right;\">\n",
       "      <th></th>\n",
       "      <th>count</th>\n",
       "    </tr>\n",
       "  </thead>\n",
       "  <tbody>\n",
       "    <tr>\n",
       "      <th>0</th>\n",
       "      <td>1000</td>\n",
       "    </tr>\n",
       "  </tbody>\n",
       "</table>\n",
       "</div>"
      ],
      "text/plain": [
       "   count\n",
       "0   1000"
      ]
     },
     "execution_count": 18,
     "metadata": {},
     "output_type": "execute_result"
    }
   ],
   "source": [
    "query = ''' SELECT COUNT(*)\n",
    "            FROM books ''' \n",
    "\n",
    "get_sql_data(query)"
   ]
  },
  {
   "cell_type": "markdown",
   "metadata": {},
   "source": [
    "Выведем информацию о таблице `books`."
   ]
  },
  {
   "cell_type": "code",
   "execution_count": 19,
   "metadata": {},
   "outputs": [
    {
     "data": {
      "text/html": [
       "<div>\n",
       "<style scoped>\n",
       "    .dataframe tbody tr th:only-of-type {\n",
       "        vertical-align: middle;\n",
       "    }\n",
       "\n",
       "    .dataframe tbody tr th {\n",
       "        vertical-align: top;\n",
       "    }\n",
       "\n",
       "    .dataframe thead th {\n",
       "        text-align: right;\n",
       "    }\n",
       "</style>\n",
       "<table border=\"1\" class=\"dataframe\">\n",
       "  <thead>\n",
       "    <tr style=\"text-align: right;\">\n",
       "      <th></th>\n",
       "      <th>column_name</th>\n",
       "      <th>data_type</th>\n",
       "      <th>is_nullable</th>\n",
       "    </tr>\n",
       "  </thead>\n",
       "  <tbody>\n",
       "    <tr>\n",
       "      <th>0</th>\n",
       "      <td>book_id</td>\n",
       "      <td>integer</td>\n",
       "      <td>NO</td>\n",
       "    </tr>\n",
       "    <tr>\n",
       "      <th>1</th>\n",
       "      <td>author_id</td>\n",
       "      <td>integer</td>\n",
       "      <td>YES</td>\n",
       "    </tr>\n",
       "    <tr>\n",
       "      <th>2</th>\n",
       "      <td>num_pages</td>\n",
       "      <td>integer</td>\n",
       "      <td>YES</td>\n",
       "    </tr>\n",
       "    <tr>\n",
       "      <th>3</th>\n",
       "      <td>publication_date</td>\n",
       "      <td>date</td>\n",
       "      <td>YES</td>\n",
       "    </tr>\n",
       "    <tr>\n",
       "      <th>4</th>\n",
       "      <td>publisher_id</td>\n",
       "      <td>integer</td>\n",
       "      <td>YES</td>\n",
       "    </tr>\n",
       "    <tr>\n",
       "      <th>5</th>\n",
       "      <td>title</td>\n",
       "      <td>text</td>\n",
       "      <td>YES</td>\n",
       "    </tr>\n",
       "  </tbody>\n",
       "</table>\n",
       "</div>"
      ],
      "text/plain": [
       "        column_name data_type is_nullable\n",
       "0           book_id   integer          NO\n",
       "1         author_id   integer         YES\n",
       "2         num_pages   integer         YES\n",
       "3  publication_date      date         YES\n",
       "4      publisher_id   integer         YES\n",
       "5             title      text         YES"
      ]
     },
     "execution_count": 19,
     "metadata": {},
     "output_type": "execute_result"
    }
   ],
   "source": [
    "query = ''' SELECT COLUMN_NAME, DATA_TYPE, IS_NULLABLE\n",
    "            FROM INFORMATION_SCHEMA.COLUMNS\n",
    "            WHERE TABLE_NAME = 'books' ''' \n",
    "\n",
    "get_sql_data(query)"
   ]
  },
  {
   "cell_type": "markdown",
   "metadata": {},
   "source": [
    "Таблица `books` содержит 6 столбцов и 1000 строк. Столбцы `book_id`, `author_id`, `num_pages` и `publisher_id` имеют тип данныйх `int`. Столбец `publication_date` имеет тип данных `date`. Столбец `title` имеет тип данных `text`."
   ]
  },
  {
   "cell_type": "markdown",
   "metadata": {},
   "source": [
    "Таблица `authors`:"
   ]
  },
  {
   "cell_type": "code",
   "execution_count": 20,
   "metadata": {},
   "outputs": [
    {
     "data": {
      "text/html": [
       "<div>\n",
       "<style scoped>\n",
       "    .dataframe tbody tr th:only-of-type {\n",
       "        vertical-align: middle;\n",
       "    }\n",
       "\n",
       "    .dataframe tbody tr th {\n",
       "        vertical-align: top;\n",
       "    }\n",
       "\n",
       "    .dataframe thead th {\n",
       "        text-align: right;\n",
       "    }\n",
       "</style>\n",
       "<table border=\"1\" class=\"dataframe\">\n",
       "  <thead>\n",
       "    <tr style=\"text-align: right;\">\n",
       "      <th></th>\n",
       "      <th>author_id</th>\n",
       "      <th>author</th>\n",
       "    </tr>\n",
       "  </thead>\n",
       "  <tbody>\n",
       "    <tr>\n",
       "      <th>0</th>\n",
       "      <td>1</td>\n",
       "      <td>A.S. Byatt</td>\n",
       "    </tr>\n",
       "    <tr>\n",
       "      <th>1</th>\n",
       "      <td>2</td>\n",
       "      <td>Aesop/Laura Harris/Laura Gibbs</td>\n",
       "    </tr>\n",
       "    <tr>\n",
       "      <th>2</th>\n",
       "      <td>3</td>\n",
       "      <td>Agatha Christie</td>\n",
       "    </tr>\n",
       "    <tr>\n",
       "      <th>3</th>\n",
       "      <td>4</td>\n",
       "      <td>Alan Brennert</td>\n",
       "    </tr>\n",
       "    <tr>\n",
       "      <th>4</th>\n",
       "      <td>5</td>\n",
       "      <td>Alan Moore/David   Lloyd</td>\n",
       "    </tr>\n",
       "  </tbody>\n",
       "</table>\n",
       "</div>"
      ],
      "text/plain": [
       "   author_id                          author\n",
       "0          1                      A.S. Byatt\n",
       "1          2  Aesop/Laura Harris/Laura Gibbs\n",
       "2          3                 Agatha Christie\n",
       "3          4                   Alan Brennert\n",
       "4          5        Alan Moore/David   Lloyd"
      ]
     },
     "execution_count": 20,
     "metadata": {},
     "output_type": "execute_result"
    }
   ],
   "source": [
    "query = ''' SELECT * \n",
    "            FROM authors LIMIT 5 '''\n",
    "get_sql_data(query)"
   ]
  },
  {
   "cell_type": "markdown",
   "metadata": {},
   "source": [
    "Посчитаем количество строк в таблице `authors`."
   ]
  },
  {
   "cell_type": "code",
   "execution_count": 21,
   "metadata": {},
   "outputs": [
    {
     "data": {
      "text/html": [
       "<div>\n",
       "<style scoped>\n",
       "    .dataframe tbody tr th:only-of-type {\n",
       "        vertical-align: middle;\n",
       "    }\n",
       "\n",
       "    .dataframe tbody tr th {\n",
       "        vertical-align: top;\n",
       "    }\n",
       "\n",
       "    .dataframe thead th {\n",
       "        text-align: right;\n",
       "    }\n",
       "</style>\n",
       "<table border=\"1\" class=\"dataframe\">\n",
       "  <thead>\n",
       "    <tr style=\"text-align: right;\">\n",
       "      <th></th>\n",
       "      <th>count</th>\n",
       "    </tr>\n",
       "  </thead>\n",
       "  <tbody>\n",
       "    <tr>\n",
       "      <th>0</th>\n",
       "      <td>636</td>\n",
       "    </tr>\n",
       "  </tbody>\n",
       "</table>\n",
       "</div>"
      ],
      "text/plain": [
       "   count\n",
       "0    636"
      ]
     },
     "execution_count": 21,
     "metadata": {},
     "output_type": "execute_result"
    }
   ],
   "source": [
    "query = ''' SELECT COUNT(*)\n",
    "            FROM authors ''' \n",
    "\n",
    "get_sql_data(query)"
   ]
  },
  {
   "cell_type": "markdown",
   "metadata": {},
   "source": [
    "Выведем информацию о таблице `authors`."
   ]
  },
  {
   "cell_type": "code",
   "execution_count": 22,
   "metadata": {},
   "outputs": [
    {
     "data": {
      "text/html": [
       "<div>\n",
       "<style scoped>\n",
       "    .dataframe tbody tr th:only-of-type {\n",
       "        vertical-align: middle;\n",
       "    }\n",
       "\n",
       "    .dataframe tbody tr th {\n",
       "        vertical-align: top;\n",
       "    }\n",
       "\n",
       "    .dataframe thead th {\n",
       "        text-align: right;\n",
       "    }\n",
       "</style>\n",
       "<table border=\"1\" class=\"dataframe\">\n",
       "  <thead>\n",
       "    <tr style=\"text-align: right;\">\n",
       "      <th></th>\n",
       "      <th>column_name</th>\n",
       "      <th>data_type</th>\n",
       "      <th>is_nullable</th>\n",
       "    </tr>\n",
       "  </thead>\n",
       "  <tbody>\n",
       "    <tr>\n",
       "      <th>0</th>\n",
       "      <td>author_id</td>\n",
       "      <td>integer</td>\n",
       "      <td>NO</td>\n",
       "    </tr>\n",
       "    <tr>\n",
       "      <th>1</th>\n",
       "      <td>author</td>\n",
       "      <td>text</td>\n",
       "      <td>YES</td>\n",
       "    </tr>\n",
       "  </tbody>\n",
       "</table>\n",
       "</div>"
      ],
      "text/plain": [
       "  column_name data_type is_nullable\n",
       "0   author_id   integer          NO\n",
       "1      author      text         YES"
      ]
     },
     "execution_count": 22,
     "metadata": {},
     "output_type": "execute_result"
    }
   ],
   "source": [
    "query = ''' SELECT COLUMN_NAME, DATA_TYPE, IS_NULLABLE\n",
    "            FROM INFORMATION_SCHEMA.COLUMNS\n",
    "            WHERE TABLE_NAME = 'authors' ''' \n",
    "\n",
    "get_sql_data(query)"
   ]
  },
  {
   "cell_type": "markdown",
   "metadata": {},
   "source": [
    "Таблица `authors` содержит 2 столбца и 636 строк. Столбец `author_id` имеет тип данныйх `int`. Столбец `author` имеет тип данных `text`."
   ]
  },
  {
   "cell_type": "markdown",
   "metadata": {},
   "source": [
    "Таблица `publishers`:"
   ]
  },
  {
   "cell_type": "code",
   "execution_count": 23,
   "metadata": {},
   "outputs": [
    {
     "data": {
      "text/html": [
       "<div>\n",
       "<style scoped>\n",
       "    .dataframe tbody tr th:only-of-type {\n",
       "        vertical-align: middle;\n",
       "    }\n",
       "\n",
       "    .dataframe tbody tr th {\n",
       "        vertical-align: top;\n",
       "    }\n",
       "\n",
       "    .dataframe thead th {\n",
       "        text-align: right;\n",
       "    }\n",
       "</style>\n",
       "<table border=\"1\" class=\"dataframe\">\n",
       "  <thead>\n",
       "    <tr style=\"text-align: right;\">\n",
       "      <th></th>\n",
       "      <th>publisher_id</th>\n",
       "      <th>publisher</th>\n",
       "    </tr>\n",
       "  </thead>\n",
       "  <tbody>\n",
       "    <tr>\n",
       "      <th>0</th>\n",
       "      <td>1</td>\n",
       "      <td>Ace</td>\n",
       "    </tr>\n",
       "    <tr>\n",
       "      <th>1</th>\n",
       "      <td>2</td>\n",
       "      <td>Ace Book</td>\n",
       "    </tr>\n",
       "    <tr>\n",
       "      <th>2</th>\n",
       "      <td>3</td>\n",
       "      <td>Ace Books</td>\n",
       "    </tr>\n",
       "    <tr>\n",
       "      <th>3</th>\n",
       "      <td>4</td>\n",
       "      <td>Ace Hardcover</td>\n",
       "    </tr>\n",
       "    <tr>\n",
       "      <th>4</th>\n",
       "      <td>5</td>\n",
       "      <td>Addison Wesley Publishing Company</td>\n",
       "    </tr>\n",
       "  </tbody>\n",
       "</table>\n",
       "</div>"
      ],
      "text/plain": [
       "   publisher_id                          publisher\n",
       "0             1                                Ace\n",
       "1             2                           Ace Book\n",
       "2             3                          Ace Books\n",
       "3             4                      Ace Hardcover\n",
       "4             5  Addison Wesley Publishing Company"
      ]
     },
     "execution_count": 23,
     "metadata": {},
     "output_type": "execute_result"
    }
   ],
   "source": [
    "query = ''' SELECT * \n",
    "            FROM publishers LIMIT 5 '''\n",
    "get_sql_data(query)"
   ]
  },
  {
   "cell_type": "markdown",
   "metadata": {},
   "source": [
    "Посчитаем количество строк в таблице `publishers`."
   ]
  },
  {
   "cell_type": "code",
   "execution_count": 24,
   "metadata": {},
   "outputs": [
    {
     "data": {
      "text/html": [
       "<div>\n",
       "<style scoped>\n",
       "    .dataframe tbody tr th:only-of-type {\n",
       "        vertical-align: middle;\n",
       "    }\n",
       "\n",
       "    .dataframe tbody tr th {\n",
       "        vertical-align: top;\n",
       "    }\n",
       "\n",
       "    .dataframe thead th {\n",
       "        text-align: right;\n",
       "    }\n",
       "</style>\n",
       "<table border=\"1\" class=\"dataframe\">\n",
       "  <thead>\n",
       "    <tr style=\"text-align: right;\">\n",
       "      <th></th>\n",
       "      <th>count</th>\n",
       "    </tr>\n",
       "  </thead>\n",
       "  <tbody>\n",
       "    <tr>\n",
       "      <th>0</th>\n",
       "      <td>340</td>\n",
       "    </tr>\n",
       "  </tbody>\n",
       "</table>\n",
       "</div>"
      ],
      "text/plain": [
       "   count\n",
       "0    340"
      ]
     },
     "execution_count": 24,
     "metadata": {},
     "output_type": "execute_result"
    }
   ],
   "source": [
    "query = ''' SELECT COUNT(*)\n",
    "            FROM publishers ''' \n",
    "\n",
    "get_sql_data(query)"
   ]
  },
  {
   "cell_type": "markdown",
   "metadata": {},
   "source": [
    "Выведем информацию о таблице `publishers`."
   ]
  },
  {
   "cell_type": "code",
   "execution_count": 25,
   "metadata": {},
   "outputs": [
    {
     "data": {
      "text/html": [
       "<div>\n",
       "<style scoped>\n",
       "    .dataframe tbody tr th:only-of-type {\n",
       "        vertical-align: middle;\n",
       "    }\n",
       "\n",
       "    .dataframe tbody tr th {\n",
       "        vertical-align: top;\n",
       "    }\n",
       "\n",
       "    .dataframe thead th {\n",
       "        text-align: right;\n",
       "    }\n",
       "</style>\n",
       "<table border=\"1\" class=\"dataframe\">\n",
       "  <thead>\n",
       "    <tr style=\"text-align: right;\">\n",
       "      <th></th>\n",
       "      <th>column_name</th>\n",
       "      <th>data_type</th>\n",
       "      <th>is_nullable</th>\n",
       "    </tr>\n",
       "  </thead>\n",
       "  <tbody>\n",
       "    <tr>\n",
       "      <th>0</th>\n",
       "      <td>publisher_id</td>\n",
       "      <td>integer</td>\n",
       "      <td>NO</td>\n",
       "    </tr>\n",
       "    <tr>\n",
       "      <th>1</th>\n",
       "      <td>publisher</td>\n",
       "      <td>text</td>\n",
       "      <td>YES</td>\n",
       "    </tr>\n",
       "  </tbody>\n",
       "</table>\n",
       "</div>"
      ],
      "text/plain": [
       "    column_name data_type is_nullable\n",
       "0  publisher_id   integer          NO\n",
       "1     publisher      text         YES"
      ]
     },
     "execution_count": 25,
     "metadata": {},
     "output_type": "execute_result"
    }
   ],
   "source": [
    "query = ''' SELECT COLUMN_NAME, DATA_TYPE, IS_NULLABLE\n",
    "            FROM INFORMATION_SCHEMA.COLUMNS\n",
    "            WHERE TABLE_NAME = 'publishers' ''' \n",
    "\n",
    "get_sql_data(query)"
   ]
  },
  {
   "cell_type": "markdown",
   "metadata": {},
   "source": [
    "Таблица `publishers` содержит 2 столбца и 340 строк. Столбец `publisher_id` имеет тип данныйх `int`. Столбец `publisher` имеет тип данных `text`."
   ]
  },
  {
   "cell_type": "markdown",
   "metadata": {},
   "source": [
    "Таблица `ratings`:"
   ]
  },
  {
   "cell_type": "code",
   "execution_count": 26,
   "metadata": {},
   "outputs": [
    {
     "data": {
      "text/html": [
       "<div>\n",
       "<style scoped>\n",
       "    .dataframe tbody tr th:only-of-type {\n",
       "        vertical-align: middle;\n",
       "    }\n",
       "\n",
       "    .dataframe tbody tr th {\n",
       "        vertical-align: top;\n",
       "    }\n",
       "\n",
       "    .dataframe thead th {\n",
       "        text-align: right;\n",
       "    }\n",
       "</style>\n",
       "<table border=\"1\" class=\"dataframe\">\n",
       "  <thead>\n",
       "    <tr style=\"text-align: right;\">\n",
       "      <th></th>\n",
       "      <th>rating_id</th>\n",
       "      <th>book_id</th>\n",
       "      <th>username</th>\n",
       "      <th>rating</th>\n",
       "    </tr>\n",
       "  </thead>\n",
       "  <tbody>\n",
       "    <tr>\n",
       "      <th>0</th>\n",
       "      <td>1</td>\n",
       "      <td>1</td>\n",
       "      <td>ryanfranco</td>\n",
       "      <td>4</td>\n",
       "    </tr>\n",
       "    <tr>\n",
       "      <th>1</th>\n",
       "      <td>2</td>\n",
       "      <td>1</td>\n",
       "      <td>grantpatricia</td>\n",
       "      <td>2</td>\n",
       "    </tr>\n",
       "    <tr>\n",
       "      <th>2</th>\n",
       "      <td>3</td>\n",
       "      <td>1</td>\n",
       "      <td>brandtandrea</td>\n",
       "      <td>5</td>\n",
       "    </tr>\n",
       "    <tr>\n",
       "      <th>3</th>\n",
       "      <td>4</td>\n",
       "      <td>2</td>\n",
       "      <td>lorichen</td>\n",
       "      <td>3</td>\n",
       "    </tr>\n",
       "    <tr>\n",
       "      <th>4</th>\n",
       "      <td>5</td>\n",
       "      <td>2</td>\n",
       "      <td>mariokeller</td>\n",
       "      <td>2</td>\n",
       "    </tr>\n",
       "  </tbody>\n",
       "</table>\n",
       "</div>"
      ],
      "text/plain": [
       "   rating_id  book_id       username  rating\n",
       "0          1        1     ryanfranco       4\n",
       "1          2        1  grantpatricia       2\n",
       "2          3        1   brandtandrea       5\n",
       "3          4        2       lorichen       3\n",
       "4          5        2    mariokeller       2"
      ]
     },
     "execution_count": 26,
     "metadata": {},
     "output_type": "execute_result"
    }
   ],
   "source": [
    "query = ''' SELECT * \n",
    "            FROM ratings LIMIT 5 '''\n",
    "get_sql_data(query)"
   ]
  },
  {
   "cell_type": "markdown",
   "metadata": {},
   "source": [
    "Посчитаем количество строк в таблице `ratings`."
   ]
  },
  {
   "cell_type": "code",
   "execution_count": 27,
   "metadata": {},
   "outputs": [
    {
     "data": {
      "text/html": [
       "<div>\n",
       "<style scoped>\n",
       "    .dataframe tbody tr th:only-of-type {\n",
       "        vertical-align: middle;\n",
       "    }\n",
       "\n",
       "    .dataframe tbody tr th {\n",
       "        vertical-align: top;\n",
       "    }\n",
       "\n",
       "    .dataframe thead th {\n",
       "        text-align: right;\n",
       "    }\n",
       "</style>\n",
       "<table border=\"1\" class=\"dataframe\">\n",
       "  <thead>\n",
       "    <tr style=\"text-align: right;\">\n",
       "      <th></th>\n",
       "      <th>count</th>\n",
       "    </tr>\n",
       "  </thead>\n",
       "  <tbody>\n",
       "    <tr>\n",
       "      <th>0</th>\n",
       "      <td>6456</td>\n",
       "    </tr>\n",
       "  </tbody>\n",
       "</table>\n",
       "</div>"
      ],
      "text/plain": [
       "   count\n",
       "0   6456"
      ]
     },
     "execution_count": 27,
     "metadata": {},
     "output_type": "execute_result"
    }
   ],
   "source": [
    "query = ''' SELECT COUNT(*)\n",
    "            FROM ratings ''' \n",
    "\n",
    "get_sql_data(query)"
   ]
  },
  {
   "cell_type": "markdown",
   "metadata": {},
   "source": [
    "Выведем информацию о таблице `ratings`."
   ]
  },
  {
   "cell_type": "code",
   "execution_count": 28,
   "metadata": {},
   "outputs": [
    {
     "data": {
      "text/html": [
       "<div>\n",
       "<style scoped>\n",
       "    .dataframe tbody tr th:only-of-type {\n",
       "        vertical-align: middle;\n",
       "    }\n",
       "\n",
       "    .dataframe tbody tr th {\n",
       "        vertical-align: top;\n",
       "    }\n",
       "\n",
       "    .dataframe thead th {\n",
       "        text-align: right;\n",
       "    }\n",
       "</style>\n",
       "<table border=\"1\" class=\"dataframe\">\n",
       "  <thead>\n",
       "    <tr style=\"text-align: right;\">\n",
       "      <th></th>\n",
       "      <th>column_name</th>\n",
       "      <th>data_type</th>\n",
       "      <th>is_nullable</th>\n",
       "    </tr>\n",
       "  </thead>\n",
       "  <tbody>\n",
       "    <tr>\n",
       "      <th>0</th>\n",
       "      <td>rating_id</td>\n",
       "      <td>integer</td>\n",
       "      <td>NO</td>\n",
       "    </tr>\n",
       "    <tr>\n",
       "      <th>1</th>\n",
       "      <td>book_id</td>\n",
       "      <td>integer</td>\n",
       "      <td>YES</td>\n",
       "    </tr>\n",
       "    <tr>\n",
       "      <th>2</th>\n",
       "      <td>rating</td>\n",
       "      <td>integer</td>\n",
       "      <td>YES</td>\n",
       "    </tr>\n",
       "    <tr>\n",
       "      <th>3</th>\n",
       "      <td>username</td>\n",
       "      <td>text</td>\n",
       "      <td>YES</td>\n",
       "    </tr>\n",
       "  </tbody>\n",
       "</table>\n",
       "</div>"
      ],
      "text/plain": [
       "  column_name data_type is_nullable\n",
       "0   rating_id   integer          NO\n",
       "1     book_id   integer         YES\n",
       "2      rating   integer         YES\n",
       "3    username      text         YES"
      ]
     },
     "execution_count": 28,
     "metadata": {},
     "output_type": "execute_result"
    }
   ],
   "source": [
    "query = ''' SELECT COLUMN_NAME, DATA_TYPE, IS_NULLABLE\n",
    "            FROM INFORMATION_SCHEMA.COLUMNS\n",
    "            WHERE TABLE_NAME = 'ratings' ''' \n",
    "\n",
    "get_sql_data(query)"
   ]
  },
  {
   "cell_type": "markdown",
   "metadata": {},
   "source": [
    "Таблица `ratings` содержит 4 столбца и 6456 строк. Столбцы `rating_id`, `book_id`, и `rating` имеют тип данныйх `int`. Столбец `username` имеет тип данных `text`."
   ]
  },
  {
   "cell_type": "markdown",
   "metadata": {},
   "source": [
    "Таблица `reviews`:"
   ]
  },
  {
   "cell_type": "code",
   "execution_count": 29,
   "metadata": {},
   "outputs": [
    {
     "data": {
      "text/html": [
       "<div>\n",
       "<style scoped>\n",
       "    .dataframe tbody tr th:only-of-type {\n",
       "        vertical-align: middle;\n",
       "    }\n",
       "\n",
       "    .dataframe tbody tr th {\n",
       "        vertical-align: top;\n",
       "    }\n",
       "\n",
       "    .dataframe thead th {\n",
       "        text-align: right;\n",
       "    }\n",
       "</style>\n",
       "<table border=\"1\" class=\"dataframe\">\n",
       "  <thead>\n",
       "    <tr style=\"text-align: right;\">\n",
       "      <th></th>\n",
       "      <th>review_id</th>\n",
       "      <th>book_id</th>\n",
       "      <th>username</th>\n",
       "      <th>text</th>\n",
       "    </tr>\n",
       "  </thead>\n",
       "  <tbody>\n",
       "    <tr>\n",
       "      <th>0</th>\n",
       "      <td>1</td>\n",
       "      <td>1</td>\n",
       "      <td>brandtandrea</td>\n",
       "      <td>Mention society tell send professor analysis. ...</td>\n",
       "    </tr>\n",
       "    <tr>\n",
       "      <th>1</th>\n",
       "      <td>2</td>\n",
       "      <td>1</td>\n",
       "      <td>ryanfranco</td>\n",
       "      <td>Foot glass pretty audience hit themselves. Amo...</td>\n",
       "    </tr>\n",
       "    <tr>\n",
       "      <th>2</th>\n",
       "      <td>3</td>\n",
       "      <td>2</td>\n",
       "      <td>lorichen</td>\n",
       "      <td>Listen treat keep worry. Miss husband tax but ...</td>\n",
       "    </tr>\n",
       "    <tr>\n",
       "      <th>3</th>\n",
       "      <td>4</td>\n",
       "      <td>3</td>\n",
       "      <td>johnsonamanda</td>\n",
       "      <td>Finally month interesting blue could nature cu...</td>\n",
       "    </tr>\n",
       "    <tr>\n",
       "      <th>4</th>\n",
       "      <td>5</td>\n",
       "      <td>3</td>\n",
       "      <td>scotttamara</td>\n",
       "      <td>Nation purpose heavy give wait song will. List...</td>\n",
       "    </tr>\n",
       "  </tbody>\n",
       "</table>\n",
       "</div>"
      ],
      "text/plain": [
       "   review_id  book_id       username  \\\n",
       "0          1        1   brandtandrea   \n",
       "1          2        1     ryanfranco   \n",
       "2          3        2       lorichen   \n",
       "3          4        3  johnsonamanda   \n",
       "4          5        3    scotttamara   \n",
       "\n",
       "                                                text  \n",
       "0  Mention society tell send professor analysis. ...  \n",
       "1  Foot glass pretty audience hit themselves. Amo...  \n",
       "2  Listen treat keep worry. Miss husband tax but ...  \n",
       "3  Finally month interesting blue could nature cu...  \n",
       "4  Nation purpose heavy give wait song will. List...  "
      ]
     },
     "execution_count": 29,
     "metadata": {},
     "output_type": "execute_result"
    }
   ],
   "source": [
    "query = ''' SELECT * \n",
    "            FROM reviews LIMIT 5 '''\n",
    "get_sql_data(query)"
   ]
  },
  {
   "cell_type": "markdown",
   "metadata": {},
   "source": [
    "Посчитаем количество строк в таблице `reviews`."
   ]
  },
  {
   "cell_type": "code",
   "execution_count": 30,
   "metadata": {},
   "outputs": [
    {
     "data": {
      "text/html": [
       "<div>\n",
       "<style scoped>\n",
       "    .dataframe tbody tr th:only-of-type {\n",
       "        vertical-align: middle;\n",
       "    }\n",
       "\n",
       "    .dataframe tbody tr th {\n",
       "        vertical-align: top;\n",
       "    }\n",
       "\n",
       "    .dataframe thead th {\n",
       "        text-align: right;\n",
       "    }\n",
       "</style>\n",
       "<table border=\"1\" class=\"dataframe\">\n",
       "  <thead>\n",
       "    <tr style=\"text-align: right;\">\n",
       "      <th></th>\n",
       "      <th>count</th>\n",
       "    </tr>\n",
       "  </thead>\n",
       "  <tbody>\n",
       "    <tr>\n",
       "      <th>0</th>\n",
       "      <td>2793</td>\n",
       "    </tr>\n",
       "  </tbody>\n",
       "</table>\n",
       "</div>"
      ],
      "text/plain": [
       "   count\n",
       "0   2793"
      ]
     },
     "execution_count": 30,
     "metadata": {},
     "output_type": "execute_result"
    }
   ],
   "source": [
    "query = ''' SELECT COUNT(*)\n",
    "            FROM reviews ''' \n",
    "\n",
    "get_sql_data(query)"
   ]
  },
  {
   "cell_type": "markdown",
   "metadata": {},
   "source": [
    "Выведем информацию о таблице `reviews`."
   ]
  },
  {
   "cell_type": "code",
   "execution_count": 31,
   "metadata": {},
   "outputs": [
    {
     "data": {
      "text/html": [
       "<div>\n",
       "<style scoped>\n",
       "    .dataframe tbody tr th:only-of-type {\n",
       "        vertical-align: middle;\n",
       "    }\n",
       "\n",
       "    .dataframe tbody tr th {\n",
       "        vertical-align: top;\n",
       "    }\n",
       "\n",
       "    .dataframe thead th {\n",
       "        text-align: right;\n",
       "    }\n",
       "</style>\n",
       "<table border=\"1\" class=\"dataframe\">\n",
       "  <thead>\n",
       "    <tr style=\"text-align: right;\">\n",
       "      <th></th>\n",
       "      <th>column_name</th>\n",
       "      <th>data_type</th>\n",
       "      <th>is_nullable</th>\n",
       "    </tr>\n",
       "  </thead>\n",
       "  <tbody>\n",
       "    <tr>\n",
       "      <th>0</th>\n",
       "      <td>review_id</td>\n",
       "      <td>integer</td>\n",
       "      <td>NO</td>\n",
       "    </tr>\n",
       "    <tr>\n",
       "      <th>1</th>\n",
       "      <td>book_id</td>\n",
       "      <td>integer</td>\n",
       "      <td>YES</td>\n",
       "    </tr>\n",
       "    <tr>\n",
       "      <th>2</th>\n",
       "      <td>username</td>\n",
       "      <td>text</td>\n",
       "      <td>YES</td>\n",
       "    </tr>\n",
       "    <tr>\n",
       "      <th>3</th>\n",
       "      <td>text</td>\n",
       "      <td>text</td>\n",
       "      <td>YES</td>\n",
       "    </tr>\n",
       "  </tbody>\n",
       "</table>\n",
       "</div>"
      ],
      "text/plain": [
       "  column_name data_type is_nullable\n",
       "0   review_id   integer          NO\n",
       "1     book_id   integer         YES\n",
       "2    username      text         YES\n",
       "3        text      text         YES"
      ]
     },
     "execution_count": 31,
     "metadata": {},
     "output_type": "execute_result"
    }
   ],
   "source": [
    "query = ''' SELECT COLUMN_NAME, DATA_TYPE, IS_NULLABLE\n",
    "            FROM INFORMATION_SCHEMA.COLUMNS\n",
    "            WHERE TABLE_NAME = 'reviews' ''' \n",
    "\n",
    "get_sql_data(query)"
   ]
  },
  {
   "cell_type": "markdown",
   "metadata": {},
   "source": [
    "Таблица `ratings` содержит 4 столбца и 2793 строки. Столбцы `review_id` и `book_id` имеют тип данныйх `int`. Столбцы `username` и `text` имеют тип данных `text`."
   ]
  },
  {
   "cell_type": "markdown",
   "metadata": {},
   "source": [
    "# Количество книг, вышедших после 1 января 2000 года"
   ]
  },
  {
   "cell_type": "code",
   "execution_count": 32,
   "metadata": {},
   "outputs": [
    {
     "data": {
      "text/html": [
       "<div>\n",
       "<style scoped>\n",
       "    .dataframe tbody tr th:only-of-type {\n",
       "        vertical-align: middle;\n",
       "    }\n",
       "\n",
       "    .dataframe tbody tr th {\n",
       "        vertical-align: top;\n",
       "    }\n",
       "\n",
       "    .dataframe thead th {\n",
       "        text-align: right;\n",
       "    }\n",
       "</style>\n",
       "<table border=\"1\" class=\"dataframe\">\n",
       "  <thead>\n",
       "    <tr style=\"text-align: right;\">\n",
       "      <th></th>\n",
       "      <th>count</th>\n",
       "    </tr>\n",
       "  </thead>\n",
       "  <tbody>\n",
       "    <tr>\n",
       "      <th>0</th>\n",
       "      <td>819</td>\n",
       "    </tr>\n",
       "  </tbody>\n",
       "</table>\n",
       "</div>"
      ],
      "text/plain": [
       "   count\n",
       "0    819"
      ]
     },
     "execution_count": 32,
     "metadata": {},
     "output_type": "execute_result"
    }
   ],
   "source": [
    "query = ''' SELECT COUNT(book_id) \n",
    "            FROM books\n",
    "            WHERE publication_date > '2000-01-01' '''\n",
    "\n",
    "get_sql_data(query)"
   ]
  },
  {
   "cell_type": "markdown",
   "metadata": {},
   "source": [
    "После 1 января 2000 года вышло 819 книг."
   ]
  },
  {
   "cell_type": "markdown",
   "metadata": {},
   "source": [
    "# Количество обзоров и средняя оценка для каждой книги"
   ]
  },
  {
   "cell_type": "code",
   "execution_count": 33,
   "metadata": {},
   "outputs": [
    {
     "data": {
      "text/html": [
       "<div>\n",
       "<style scoped>\n",
       "    .dataframe tbody tr th:only-of-type {\n",
       "        vertical-align: middle;\n",
       "    }\n",
       "\n",
       "    .dataframe tbody tr th {\n",
       "        vertical-align: top;\n",
       "    }\n",
       "\n",
       "    .dataframe thead th {\n",
       "        text-align: right;\n",
       "    }\n",
       "</style>\n",
       "<table border=\"1\" class=\"dataframe\">\n",
       "  <thead>\n",
       "    <tr style=\"text-align: right;\">\n",
       "      <th></th>\n",
       "      <th>title</th>\n",
       "      <th>reviews_count</th>\n",
       "      <th>rating_avg</th>\n",
       "    </tr>\n",
       "  </thead>\n",
       "  <tbody>\n",
       "    <tr>\n",
       "      <th>0</th>\n",
       "      <td>'Salem's Lot</td>\n",
       "      <td>2</td>\n",
       "      <td>3.666667</td>\n",
       "    </tr>\n",
       "    <tr>\n",
       "      <th>1</th>\n",
       "      <td>1 000 Places to See Before You Die</td>\n",
       "      <td>1</td>\n",
       "      <td>2.500000</td>\n",
       "    </tr>\n",
       "    <tr>\n",
       "      <th>2</th>\n",
       "      <td>13 Little Blue Envelopes (Little Blue Envelope...</td>\n",
       "      <td>3</td>\n",
       "      <td>4.666667</td>\n",
       "    </tr>\n",
       "    <tr>\n",
       "      <th>3</th>\n",
       "      <td>1491: New Revelations of the Americas Before C...</td>\n",
       "      <td>2</td>\n",
       "      <td>4.500000</td>\n",
       "    </tr>\n",
       "    <tr>\n",
       "      <th>4</th>\n",
       "      <td>1776</td>\n",
       "      <td>4</td>\n",
       "      <td>4.000000</td>\n",
       "    </tr>\n",
       "    <tr>\n",
       "      <th>...</th>\n",
       "      <td>...</td>\n",
       "      <td>...</td>\n",
       "      <td>...</td>\n",
       "    </tr>\n",
       "    <tr>\n",
       "      <th>995</th>\n",
       "      <td>Wyrd Sisters (Discworld  #6; Witches #2)</td>\n",
       "      <td>3</td>\n",
       "      <td>3.666667</td>\n",
       "    </tr>\n",
       "    <tr>\n",
       "      <th>996</th>\n",
       "      <td>Xenocide (Ender's Saga  #3)</td>\n",
       "      <td>3</td>\n",
       "      <td>3.400000</td>\n",
       "    </tr>\n",
       "    <tr>\n",
       "      <th>997</th>\n",
       "      <td>Year of Wonders</td>\n",
       "      <td>4</td>\n",
       "      <td>3.200000</td>\n",
       "    </tr>\n",
       "    <tr>\n",
       "      <th>998</th>\n",
       "      <td>You Suck (A Love Story  #2)</td>\n",
       "      <td>2</td>\n",
       "      <td>4.500000</td>\n",
       "    </tr>\n",
       "    <tr>\n",
       "      <th>999</th>\n",
       "      <td>Zen and the Art of Motorcycle Maintenance: An ...</td>\n",
       "      <td>4</td>\n",
       "      <td>3.833333</td>\n",
       "    </tr>\n",
       "  </tbody>\n",
       "</table>\n",
       "<p>1000 rows × 3 columns</p>\n",
       "</div>"
      ],
      "text/plain": [
       "                                                 title  reviews_count  \\\n",
       "0                                         'Salem's Lot              2   \n",
       "1                   1 000 Places to See Before You Die              1   \n",
       "2    13 Little Blue Envelopes (Little Blue Envelope...              3   \n",
       "3    1491: New Revelations of the Americas Before C...              2   \n",
       "4                                                 1776              4   \n",
       "..                                                 ...            ...   \n",
       "995           Wyrd Sisters (Discworld  #6; Witches #2)              3   \n",
       "996                        Xenocide (Ender's Saga  #3)              3   \n",
       "997                                    Year of Wonders              4   \n",
       "998                        You Suck (A Love Story  #2)              2   \n",
       "999  Zen and the Art of Motorcycle Maintenance: An ...              4   \n",
       "\n",
       "     rating_avg  \n",
       "0      3.666667  \n",
       "1      2.500000  \n",
       "2      4.666667  \n",
       "3      4.500000  \n",
       "4      4.000000  \n",
       "..          ...  \n",
       "995    3.666667  \n",
       "996    3.400000  \n",
       "997    3.200000  \n",
       "998    4.500000  \n",
       "999    3.833333  \n",
       "\n",
       "[1000 rows x 3 columns]"
      ]
     },
     "execution_count": 33,
     "metadata": {},
     "output_type": "execute_result"
    }
   ],
   "source": [
    "query = ''' SELECT title,\n",
    "                   COUNT(DISTINCT review_id) AS reviews_count,\n",
    "                   AVG(rating) AS rating_avg\n",
    "            FROM books\n",
    "                 LEFT JOIN reviews USING(book_id)\n",
    "                 LEFT JOIN ratings USING(book_id)\n",
    "            GROUP BY book_id '''\n",
    "\n",
    "get_sql_data(query)"
   ]
  },
  {
   "cell_type": "markdown",
   "metadata": {},
   "source": [
    "# Издательство, которое выпустило наибольшее число книг толще 50 страниц"
   ]
  },
  {
   "cell_type": "code",
   "execution_count": 34,
   "metadata": {},
   "outputs": [
    {
     "data": {
      "text/html": [
       "<div>\n",
       "<style scoped>\n",
       "    .dataframe tbody tr th:only-of-type {\n",
       "        vertical-align: middle;\n",
       "    }\n",
       "\n",
       "    .dataframe tbody tr th {\n",
       "        vertical-align: top;\n",
       "    }\n",
       "\n",
       "    .dataframe thead th {\n",
       "        text-align: right;\n",
       "    }\n",
       "</style>\n",
       "<table border=\"1\" class=\"dataframe\">\n",
       "  <thead>\n",
       "    <tr style=\"text-align: right;\">\n",
       "      <th></th>\n",
       "      <th>publisher</th>\n",
       "    </tr>\n",
       "  </thead>\n",
       "  <tbody>\n",
       "    <tr>\n",
       "      <th>0</th>\n",
       "      <td>Penguin Books</td>\n",
       "    </tr>\n",
       "  </tbody>\n",
       "</table>\n",
       "</div>"
      ],
      "text/plain": [
       "       publisher\n",
       "0  Penguin Books"
      ]
     },
     "execution_count": 34,
     "metadata": {},
     "output_type": "execute_result"
    }
   ],
   "source": [
    "query = ''' SELECT publisher\n",
    "            FROM publishers\n",
    "                 JOIN books USING(publisher_id)\n",
    "            WHERE num_pages > 50\n",
    "            GROUP BY publisher\n",
    "            ORDER BY COUNT(book_id) DESC\n",
    "            LIMIT 1 '''\n",
    "\n",
    "get_sql_data(query)"
   ]
  },
  {
   "cell_type": "markdown",
   "metadata": {},
   "source": [
    "Издательство Penguin Books выпустило наибольшее число книг толще 50 страниц."
   ]
  },
  {
   "cell_type": "markdown",
   "metadata": {},
   "source": [
    "# Автора с самой высокой средней оценкой книг, учитывая только книги с 50 и более оценками"
   ]
  },
  {
   "cell_type": "code",
   "execution_count": 10,
   "metadata": {},
   "outputs": [
    {
     "data": {
      "text/html": [
       "<div>\n",
       "<style scoped>\n",
       "    .dataframe tbody tr th:only-of-type {\n",
       "        vertical-align: middle;\n",
       "    }\n",
       "\n",
       "    .dataframe tbody tr th {\n",
       "        vertical-align: top;\n",
       "    }\n",
       "\n",
       "    .dataframe thead th {\n",
       "        text-align: right;\n",
       "    }\n",
       "</style>\n",
       "<table border=\"1\" class=\"dataframe\">\n",
       "  <thead>\n",
       "    <tr style=\"text-align: right;\">\n",
       "      <th></th>\n",
       "      <th>author</th>\n",
       "      <th>average_rating</th>\n",
       "    </tr>\n",
       "  </thead>\n",
       "  <tbody>\n",
       "    <tr>\n",
       "      <th>0</th>\n",
       "      <td>J.K. Rowling/Mary GrandPré</td>\n",
       "      <td>4.283844</td>\n",
       "    </tr>\n",
       "  </tbody>\n",
       "</table>\n",
       "</div>"
      ],
      "text/plain": [
       "                       author  average_rating\n",
       "0  J.K. Rowling/Mary GrandPré        4.283844"
      ]
     },
     "execution_count": 10,
     "metadata": {},
     "output_type": "execute_result"
    }
   ],
   "source": [
    "query = '''\n",
    "SELECT \n",
    "    a.author,\n",
    "    AVG(avg_r.avg_rating) AS average_rating\n",
    "FROM \n",
    "    (SELECT \n",
    "         b.author_id,\n",
    "         AVG(ra.rating) AS avg_rating\n",
    "     FROM \n",
    "         books AS b\n",
    "         LEFT JOIN ratings AS ra ON ra.book_id = b.book_id\n",
    "     GROUP BY \n",
    "         b.author_id, b.book_id\n",
    "     HAVING \n",
    "         COUNT(ra.rating_id) >= 50) AS avg_r\n",
    "JOIN \n",
    "    authors AS a ON a.author_id = avg_r.author_id\n",
    "GROUP BY \n",
    "    a.author\n",
    "ORDER BY \n",
    "    average_rating DESC\n",
    "LIMIT 1;\n",
    "\n",
    "'''\n",
    "get_sql_data(query)"
   ]
  },
  {
   "cell_type": "markdown",
   "metadata": {},
   "source": [
    "Автором с самой высокой средней оценкой книг, учитывая только книги с 50 и более оценками, является J.K. Rowling/Mary GrandPré со средней оценкой книг 4.41."
   ]
  },
  {
   "cell_type": "markdown",
   "metadata": {},
   "source": [
    "# Среднее количество обзоров от пользователей, которые поставили больше 48 оценок"
   ]
  },
  {
   "cell_type": "code",
   "execution_count": 36,
   "metadata": {},
   "outputs": [
    {
     "data": {
      "text/html": [
       "<div>\n",
       "<style scoped>\n",
       "    .dataframe tbody tr th:only-of-type {\n",
       "        vertical-align: middle;\n",
       "    }\n",
       "\n",
       "    .dataframe tbody tr th {\n",
       "        vertical-align: top;\n",
       "    }\n",
       "\n",
       "    .dataframe thead th {\n",
       "        text-align: right;\n",
       "    }\n",
       "</style>\n",
       "<table border=\"1\" class=\"dataframe\">\n",
       "  <thead>\n",
       "    <tr style=\"text-align: right;\">\n",
       "      <th></th>\n",
       "      <th>avg</th>\n",
       "    </tr>\n",
       "  </thead>\n",
       "  <tbody>\n",
       "    <tr>\n",
       "      <th>0</th>\n",
       "      <td>24.0</td>\n",
       "    </tr>\n",
       "  </tbody>\n",
       "</table>\n",
       "</div>"
      ],
      "text/plain": [
       "    avg\n",
       "0  24.0"
      ]
     },
     "execution_count": 36,
     "metadata": {},
     "output_type": "execute_result"
    }
   ],
   "source": [
    "query = ''' WITH active_critics AS (SELECT DISTINCT username,\n",
    "                                           COUNT(DISTINCT review_id) AS reviews_count,\n",
    "                                           COUNT(DISTINCT rating_id) AS ratings_count\n",
    "                                    FROM reviews JOIN ratings USING(username)\n",
    "                                    GROUP BY 1\n",
    "                                    HAVING COUNT(DISTINCT rating_id) > 48\n",
    "                                    ORDER BY 3)\n",
    "            SELECT AVG(reviews_count)\n",
    "            FROM active_critics '''\n",
    "\n",
    "get_sql_data(query)"
   ]
  },
  {
   "cell_type": "markdown",
   "metadata": {},
   "source": [
    "Среднее количество обзоров от пользователей, которые поставили больше 48 оценок равно 24."
   ]
  },
  {
   "cell_type": "markdown",
   "metadata": {},
   "source": [
    "### Выводы"
   ]
  },
  {
   "cell_type": "markdown",
   "metadata": {},
   "source": [
    "- После 1 января 2000 года вышло 819 книг;\n",
    "- Для каждой книги было посчитано количество обзоров и средняя оценка;\n",
    "- Издательство Penguin Books выпустило наибольшее число книг толще 50 страниц;\n",
    "- Автором с самой высокой средней оценкой книг, учитывая только книги с 50 и более оценками, является J.K. Rowling/Mary GrandPré со средней оценкой книг 4.41;\n",
    "- Среднее количество обзоров от пользователей, которые поставили больше 48 оценок равно 24.\n",
    "\n",
    "В качестве варианта ценностного предложения для нового продукта можно добавить в сервис функцию рекомендации книг читателям, основанную на популярности книги и автора, а также на рейтинге и количестве обзоров."
   ]
  }
 ],
 "metadata": {
  "ExecuteTimeLog": [
   {
    "duration": 499,
    "start_time": "2024-08-07T15:20:53.794Z"
   },
   {
    "duration": 6499,
    "start_time": "2024-08-07T15:20:54.295Z"
   },
   {
    "duration": 224,
    "start_time": "2024-08-07T15:21:00.796Z"
   },
   {
    "duration": 202,
    "start_time": "2024-08-07T15:27:34.843Z"
   },
   {
    "duration": 46,
    "start_time": "2024-08-07T15:28:02.839Z"
   },
   {
    "duration": 126,
    "start_time": "2024-08-07T15:28:42.934Z"
   },
   {
    "duration": 82,
    "start_time": "2024-08-07T15:32:23.464Z"
   },
   {
    "duration": 60,
    "start_time": "2024-08-07T15:32:44.667Z"
   },
   {
    "duration": 71,
    "start_time": "2024-08-07T15:32:59.763Z"
   },
   {
    "duration": 8,
    "start_time": "2024-08-07T15:33:06.790Z"
   },
   {
    "duration": 486,
    "start_time": "2024-08-07T15:37:01.391Z"
   },
   {
    "duration": 6267,
    "start_time": "2024-08-07T15:37:01.879Z"
   },
   {
    "duration": 228,
    "start_time": "2024-08-07T15:37:08.148Z"
   },
   {
    "duration": 0,
    "start_time": "2024-08-07T15:37:08.378Z"
   },
   {
    "duration": 0,
    "start_time": "2024-08-07T15:37:08.379Z"
   },
   {
    "duration": 458,
    "start_time": "2024-08-07T15:37:49.364Z"
   },
   {
    "duration": 6075,
    "start_time": "2024-08-07T15:37:49.824Z"
   },
   {
    "duration": 3,
    "start_time": "2024-08-07T15:37:55.901Z"
   },
   {
    "duration": 479,
    "start_time": "2024-08-07T15:39:02.394Z"
   },
   {
    "duration": 6218,
    "start_time": "2024-08-07T15:39:02.875Z"
   },
   {
    "duration": 4,
    "start_time": "2024-08-07T15:39:09.094Z"
   },
   {
    "duration": 12,
    "start_time": "2024-08-07T15:39:09.099Z"
   },
   {
    "duration": 67,
    "start_time": "2024-08-07T15:40:43.214Z"
   },
   {
    "duration": 223,
    "start_time": "2024-08-07T15:40:55.653Z"
   },
   {
    "duration": 49,
    "start_time": "2024-08-07T15:42:46.278Z"
   },
   {
    "duration": 3,
    "start_time": "2024-08-07T15:43:53.554Z"
   },
   {
    "duration": 84,
    "start_time": "2024-08-07T15:48:56.625Z"
   },
   {
    "duration": 473,
    "start_time": "2024-08-07T15:51:08.088Z"
   },
   {
    "duration": 6277,
    "start_time": "2024-08-07T15:51:08.562Z"
   },
   {
    "duration": 3,
    "start_time": "2024-08-07T15:51:14.841Z"
   },
   {
    "duration": 261,
    "start_time": "2024-08-07T15:51:14.845Z"
   },
   {
    "duration": 54,
    "start_time": "2024-08-07T15:51:15.107Z"
   },
   {
    "duration": 54,
    "start_time": "2024-08-07T15:51:15.162Z"
   },
   {
    "duration": 54,
    "start_time": "2024-08-07T15:51:15.217Z"
   },
   {
    "duration": 54,
    "start_time": "2024-08-07T15:51:15.273Z"
   },
   {
    "duration": 56,
    "start_time": "2024-08-07T15:54:24.033Z"
   },
   {
    "duration": 129,
    "start_time": "2024-08-07T15:56:15.757Z"
   },
   {
    "duration": 52,
    "start_time": "2024-08-07T15:57:06.407Z"
   },
   {
    "duration": 64,
    "start_time": "2024-08-07T16:05:35.684Z"
   },
   {
    "duration": 64,
    "start_time": "2024-08-07T16:06:20.765Z"
   },
   {
    "duration": 65,
    "start_time": "2024-08-07T16:07:24.035Z"
   },
   {
    "duration": 63,
    "start_time": "2024-08-07T16:08:14.401Z"
   },
   {
    "duration": 62,
    "start_time": "2024-08-07T16:09:16.799Z"
   },
   {
    "duration": 63,
    "start_time": "2024-08-07T16:09:24.639Z"
   },
   {
    "duration": 95,
    "start_time": "2024-08-07T16:09:43.591Z"
   },
   {
    "duration": 90,
    "start_time": "2024-08-07T16:09:56.228Z"
   },
   {
    "duration": 227,
    "start_time": "2024-08-07T16:14:37.255Z"
   },
   {
    "duration": 53,
    "start_time": "2024-08-07T16:14:51.009Z"
   },
   {
    "duration": 53,
    "start_time": "2024-08-07T16:15:05.409Z"
   },
   {
    "duration": 53,
    "start_time": "2024-08-07T16:16:10.452Z"
   },
   {
    "duration": 53,
    "start_time": "2024-08-07T16:16:17.884Z"
   },
   {
    "duration": 54,
    "start_time": "2024-08-07T16:16:22.844Z"
   },
   {
    "duration": 52,
    "start_time": "2024-08-07T16:16:28.312Z"
   },
   {
    "duration": 52,
    "start_time": "2024-08-07T16:16:52.546Z"
   },
   {
    "duration": 56,
    "start_time": "2024-08-07T16:21:09.321Z"
   },
   {
    "duration": 58,
    "start_time": "2024-08-07T16:57:07.189Z"
   },
   {
    "duration": 69,
    "start_time": "2024-08-07T16:57:26.022Z"
   },
   {
    "duration": 69,
    "start_time": "2024-08-07T16:58:17.428Z"
   },
   {
    "duration": 66,
    "start_time": "2024-08-07T17:00:14.210Z"
   },
   {
    "duration": 64,
    "start_time": "2024-08-07T17:01:56.177Z"
   },
   {
    "duration": 66,
    "start_time": "2024-08-07T17:02:05.475Z"
   },
   {
    "duration": 66,
    "start_time": "2024-08-07T17:02:22.216Z"
   },
   {
    "duration": 67,
    "start_time": "2024-08-07T17:02:48.661Z"
   },
   {
    "duration": 65,
    "start_time": "2024-08-07T17:04:24.196Z"
   },
   {
    "duration": 63,
    "start_time": "2024-08-07T17:05:18.471Z"
   },
   {
    "duration": 63,
    "start_time": "2024-08-07T17:05:30.966Z"
   },
   {
    "duration": 68,
    "start_time": "2024-08-07T17:06:34.527Z"
   },
   {
    "duration": 70,
    "start_time": "2024-08-07T17:07:24.233Z"
   },
   {
    "duration": 56,
    "start_time": "2024-08-07T17:08:05.584Z"
   },
   {
    "duration": 70,
    "start_time": "2024-08-07T17:08:10.853Z"
   },
   {
    "duration": 63,
    "start_time": "2024-08-07T17:08:32.671Z"
   },
   {
    "duration": 63,
    "start_time": "2024-08-07T17:10:41.260Z"
   },
   {
    "duration": 63,
    "start_time": "2024-08-07T17:13:55.082Z"
   },
   {
    "duration": 62,
    "start_time": "2024-08-07T17:14:44.223Z"
   },
   {
    "duration": 66,
    "start_time": "2024-08-07T17:16:21.589Z"
   },
   {
    "duration": 66,
    "start_time": "2024-08-07T17:16:47.139Z"
   },
   {
    "duration": 63,
    "start_time": "2024-08-07T17:18:40.787Z"
   },
   {
    "duration": 54,
    "start_time": "2024-08-07T17:19:14.500Z"
   },
   {
    "duration": 56,
    "start_time": "2024-08-07T17:19:56.100Z"
   },
   {
    "duration": 56,
    "start_time": "2024-08-07T17:20:16.434Z"
   },
   {
    "duration": 65,
    "start_time": "2024-08-07T17:20:48.763Z"
   },
   {
    "duration": 63,
    "start_time": "2024-08-07T17:22:22.835Z"
   },
   {
    "duration": 62,
    "start_time": "2024-08-07T17:22:28.429Z"
   },
   {
    "duration": 61,
    "start_time": "2024-08-07T17:22:50.410Z"
   },
   {
    "duration": 62,
    "start_time": "2024-08-07T17:22:58.039Z"
   },
   {
    "duration": 61,
    "start_time": "2024-08-07T17:23:15.028Z"
   },
   {
    "duration": 65,
    "start_time": "2024-08-07T17:24:17.884Z"
   },
   {
    "duration": 64,
    "start_time": "2024-08-07T17:25:48.211Z"
   },
   {
    "duration": 65,
    "start_time": "2024-08-07T17:26:17.589Z"
   },
   {
    "duration": 72,
    "start_time": "2024-08-07T17:26:43.891Z"
   },
   {
    "duration": 65,
    "start_time": "2024-08-07T17:29:08.349Z"
   },
   {
    "duration": 69,
    "start_time": "2024-08-07T18:48:35.088Z"
   },
   {
    "duration": 56,
    "start_time": "2024-08-07T18:49:07.129Z"
   },
   {
    "duration": 55,
    "start_time": "2024-08-07T18:49:22.460Z"
   },
   {
    "duration": 63,
    "start_time": "2024-08-07T18:51:25.160Z"
   },
   {
    "duration": 64,
    "start_time": "2024-08-07T18:51:36.989Z"
   },
   {
    "duration": 63,
    "start_time": "2024-08-07T18:51:58.621Z"
   },
   {
    "duration": 66,
    "start_time": "2024-08-07T18:52:15.457Z"
   },
   {
    "duration": 63,
    "start_time": "2024-08-07T18:53:46.737Z"
   },
   {
    "duration": 62,
    "start_time": "2024-08-07T18:54:25.311Z"
   },
   {
    "duration": 71,
    "start_time": "2024-08-07T18:54:37.285Z"
   },
   {
    "duration": 57,
    "start_time": "2024-08-07T18:56:23.384Z"
   },
   {
    "duration": 63,
    "start_time": "2024-08-07T18:57:16.497Z"
   },
   {
    "duration": 62,
    "start_time": "2024-08-07T18:57:50.956Z"
   },
   {
    "duration": 63,
    "start_time": "2024-08-07T19:02:10.904Z"
   },
   {
    "duration": 59,
    "start_time": "2024-08-07T19:04:32.482Z"
   },
   {
    "duration": 58,
    "start_time": "2024-08-07T19:04:46.660Z"
   },
   {
    "duration": 63,
    "start_time": "2024-08-07T19:06:50.702Z"
   },
   {
    "duration": 64,
    "start_time": "2024-08-07T19:07:00.951Z"
   },
   {
    "duration": 56,
    "start_time": "2024-08-07T19:07:24.894Z"
   },
   {
    "duration": 56,
    "start_time": "2024-08-07T19:07:36.206Z"
   },
   {
    "duration": 63,
    "start_time": "2024-08-07T19:12:41.498Z"
   },
   {
    "duration": 63,
    "start_time": "2024-08-07T19:13:41.151Z"
   },
   {
    "duration": 62,
    "start_time": "2024-08-07T19:14:49.666Z"
   },
   {
    "duration": 63,
    "start_time": "2024-08-07T19:15:02.123Z"
   },
   {
    "duration": 63,
    "start_time": "2024-08-07T19:18:15.552Z"
   },
   {
    "duration": 69,
    "start_time": "2024-08-07T19:20:52.757Z"
   },
   {
    "duration": 72,
    "start_time": "2024-08-07T19:21:23.076Z"
   },
   {
    "duration": 63,
    "start_time": "2024-08-07T19:21:29.344Z"
   },
   {
    "duration": 67,
    "start_time": "2024-08-07T19:24:19.226Z"
   },
   {
    "duration": 62,
    "start_time": "2024-08-07T19:25:26.510Z"
   },
   {
    "duration": 62,
    "start_time": "2024-08-07T19:25:35.900Z"
   },
   {
    "duration": 63,
    "start_time": "2024-08-07T19:27:45.824Z"
   },
   {
    "duration": 58,
    "start_time": "2024-08-07T19:29:45.481Z"
   },
   {
    "duration": 54,
    "start_time": "2024-08-07T19:31:54.622Z"
   },
   {
    "duration": 70,
    "start_time": "2024-08-07T19:32:47.024Z"
   },
   {
    "duration": 55,
    "start_time": "2024-08-07T19:35:34.583Z"
   },
   {
    "duration": 65,
    "start_time": "2024-08-07T19:37:02.476Z"
   },
   {
    "duration": 62,
    "start_time": "2024-08-07T19:37:15.429Z"
   },
   {
    "duration": 62,
    "start_time": "2024-08-07T19:38:42.403Z"
   },
   {
    "duration": 63,
    "start_time": "2024-08-07T19:40:00.550Z"
   },
   {
    "duration": 73,
    "start_time": "2024-08-07T19:41:35.403Z"
   },
   {
    "duration": 64,
    "start_time": "2024-08-07T19:41:53.650Z"
   },
   {
    "duration": 64,
    "start_time": "2024-08-07T19:43:03.730Z"
   },
   {
    "duration": 63,
    "start_time": "2024-08-07T19:43:08.830Z"
   },
   {
    "duration": 66,
    "start_time": "2024-08-07T19:44:00.672Z"
   },
   {
    "duration": 63,
    "start_time": "2024-08-07T19:44:34.686Z"
   },
   {
    "duration": 62,
    "start_time": "2024-08-07T19:44:42.182Z"
   },
   {
    "duration": 83,
    "start_time": "2024-08-07T19:50:00.908Z"
   },
   {
    "duration": 63,
    "start_time": "2024-08-07T19:50:36.306Z"
   },
   {
    "duration": 63,
    "start_time": "2024-08-07T19:50:46.710Z"
   },
   {
    "duration": 82,
    "start_time": "2024-08-07T19:50:50.892Z"
   },
   {
    "duration": 84,
    "start_time": "2024-08-07T19:51:17.715Z"
   },
   {
    "duration": 89,
    "start_time": "2024-08-07T19:51:26.502Z"
   },
   {
    "duration": 90,
    "start_time": "2024-08-07T19:51:55.044Z"
   },
   {
    "duration": 85,
    "start_time": "2024-08-07T19:52:05.918Z"
   },
   {
    "duration": 85,
    "start_time": "2024-08-07T19:53:33.514Z"
   },
   {
    "duration": 85,
    "start_time": "2024-08-07T19:57:03.825Z"
   },
   {
    "duration": 498,
    "start_time": "2024-08-07T20:00:47.680Z"
   },
   {
    "duration": 7768,
    "start_time": "2024-08-07T20:00:48.179Z"
   },
   {
    "duration": 3,
    "start_time": "2024-08-07T20:00:55.949Z"
   },
   {
    "duration": 251,
    "start_time": "2024-08-07T20:00:55.954Z"
   },
   {
    "duration": 52,
    "start_time": "2024-08-07T20:00:56.207Z"
   },
   {
    "duration": 52,
    "start_time": "2024-08-07T20:00:56.261Z"
   },
   {
    "duration": 52,
    "start_time": "2024-08-07T20:00:56.315Z"
   },
   {
    "duration": 54,
    "start_time": "2024-08-07T20:00:56.369Z"
   },
   {
    "duration": 52,
    "start_time": "2024-08-07T20:00:56.425Z"
   },
   {
    "duration": 90,
    "start_time": "2024-08-07T20:00:56.479Z"
   },
   {
    "duration": 55,
    "start_time": "2024-08-07T20:00:56.571Z"
   },
   {
    "duration": 59,
    "start_time": "2024-08-07T20:00:56.628Z"
   },
   {
    "duration": 87,
    "start_time": "2024-08-07T20:00:56.689Z"
   },
   {
    "duration": 52,
    "start_time": "2024-08-07T20:03:13.070Z"
   },
   {
    "duration": 52,
    "start_time": "2024-08-07T20:03:17.760Z"
   },
   {
    "duration": 972,
    "start_time": "2024-08-07T21:05:44.997Z"
   },
   {
    "duration": 8559,
    "start_time": "2024-08-07T21:05:45.971Z"
   },
   {
    "duration": 29,
    "start_time": "2024-08-07T21:05:54.532Z"
   },
   {
    "duration": 242,
    "start_time": "2024-08-07T21:05:54.563Z"
   },
   {
    "duration": 60,
    "start_time": "2024-08-07T21:05:54.807Z"
   },
   {
    "duration": 48,
    "start_time": "2024-08-07T21:05:54.869Z"
   },
   {
    "duration": 89,
    "start_time": "2024-08-07T21:05:54.919Z"
   },
   {
    "duration": 56,
    "start_time": "2024-08-07T21:05:55.010Z"
   },
   {
    "duration": 49,
    "start_time": "2024-08-07T21:05:55.067Z"
   },
   {
    "duration": 114,
    "start_time": "2024-08-07T21:05:55.118Z"
   },
   {
    "duration": 65,
    "start_time": "2024-08-07T21:05:55.233Z"
   },
   {
    "duration": 65,
    "start_time": "2024-08-07T21:05:55.299Z"
   },
   {
    "duration": 97,
    "start_time": "2024-08-07T21:05:55.365Z"
   },
   {
    "duration": 478,
    "start_time": "2024-08-08T10:02:40.815Z"
   },
   {
    "duration": 6601,
    "start_time": "2024-08-08T10:02:41.294Z"
   },
   {
    "duration": 7,
    "start_time": "2024-08-08T10:02:47.896Z"
   },
   {
    "duration": 239,
    "start_time": "2024-08-08T10:02:47.906Z"
   },
   {
    "duration": 120,
    "start_time": "2024-08-08T10:02:48.147Z"
   },
   {
    "duration": 0,
    "start_time": "2024-08-08T10:02:48.270Z"
   },
   {
    "duration": 1,
    "start_time": "2024-08-08T10:02:48.271Z"
   },
   {
    "duration": 0,
    "start_time": "2024-08-08T10:02:48.273Z"
   },
   {
    "duration": 0,
    "start_time": "2024-08-08T10:02:48.275Z"
   },
   {
    "duration": 0,
    "start_time": "2024-08-08T10:02:48.276Z"
   },
   {
    "duration": 0,
    "start_time": "2024-08-08T10:02:48.277Z"
   },
   {
    "duration": 0,
    "start_time": "2024-08-08T10:02:48.279Z"
   },
   {
    "duration": 0,
    "start_time": "2024-08-08T10:02:48.280Z"
   },
   {
    "duration": 0,
    "start_time": "2024-08-08T10:02:48.282Z"
   },
   {
    "duration": 62,
    "start_time": "2024-08-08T10:05:23.141Z"
   },
   {
    "duration": 60,
    "start_time": "2024-08-08T10:07:28.089Z"
   },
   {
    "duration": 61,
    "start_time": "2024-08-08T10:07:52.207Z"
   },
   {
    "duration": 62,
    "start_time": "2024-08-08T10:08:21.179Z"
   },
   {
    "duration": 63,
    "start_time": "2024-08-08T10:09:50.853Z"
   },
   {
    "duration": 57,
    "start_time": "2024-08-08T10:10:13.272Z"
   },
   {
    "duration": 62,
    "start_time": "2024-08-08T10:11:57.392Z"
   },
   {
    "duration": 57,
    "start_time": "2024-08-08T11:56:02.713Z"
   },
   {
    "duration": 57,
    "start_time": "2024-08-08T12:04:02.742Z"
   },
   {
    "duration": 54,
    "start_time": "2024-08-08T12:04:21.404Z"
   },
   {
    "duration": 64,
    "start_time": "2024-08-08T12:07:16.293Z"
   },
   {
    "duration": 55,
    "start_time": "2024-08-08T12:08:56.286Z"
   },
   {
    "duration": 60,
    "start_time": "2024-08-08T12:09:32.758Z"
   },
   {
    "duration": 51,
    "start_time": "2024-08-08T12:09:43.430Z"
   },
   {
    "duration": 52,
    "start_time": "2024-08-08T12:11:50.319Z"
   },
   {
    "duration": 51,
    "start_time": "2024-08-08T12:18:43.753Z"
   },
   {
    "duration": 54,
    "start_time": "2024-08-08T12:19:35.742Z"
   },
   {
    "duration": 50,
    "start_time": "2024-08-08T12:20:42.881Z"
   },
   {
    "duration": 51,
    "start_time": "2024-08-08T12:23:35.177Z"
   },
   {
    "duration": 53,
    "start_time": "2024-08-08T12:24:31.475Z"
   },
   {
    "duration": 53,
    "start_time": "2024-08-08T12:27:03.101Z"
   },
   {
    "duration": 54,
    "start_time": "2024-08-08T12:27:41.022Z"
   },
   {
    "duration": 59,
    "start_time": "2024-08-08T12:29:52.711Z"
   },
   {
    "duration": 52,
    "start_time": "2024-08-08T12:30:40.515Z"
   },
   {
    "duration": 53,
    "start_time": "2024-08-08T12:30:50.691Z"
   },
   {
    "duration": 589,
    "start_time": "2024-08-08T12:36:30.946Z"
   },
   {
    "duration": 7313,
    "start_time": "2024-08-08T12:36:31.537Z"
   },
   {
    "duration": 3,
    "start_time": "2024-08-08T12:36:38.851Z"
   },
   {
    "duration": 245,
    "start_time": "2024-08-08T12:36:38.856Z"
   },
   {
    "duration": 50,
    "start_time": "2024-08-08T12:36:39.103Z"
   },
   {
    "duration": 56,
    "start_time": "2024-08-08T12:36:39.154Z"
   },
   {
    "duration": 50,
    "start_time": "2024-08-08T12:36:39.212Z"
   },
   {
    "duration": 50,
    "start_time": "2024-08-08T12:36:39.264Z"
   },
   {
    "duration": 56,
    "start_time": "2024-08-08T12:36:39.315Z"
   },
   {
    "duration": 52,
    "start_time": "2024-08-08T12:36:39.376Z"
   },
   {
    "duration": 50,
    "start_time": "2024-08-08T12:36:39.430Z"
   },
   {
    "duration": 52,
    "start_time": "2024-08-08T12:36:39.482Z"
   },
   {
    "duration": 52,
    "start_time": "2024-08-08T12:36:39.536Z"
   },
   {
    "duration": 48,
    "start_time": "2024-08-08T12:36:39.591Z"
   },
   {
    "duration": 54,
    "start_time": "2024-08-08T12:36:39.641Z"
   },
   {
    "duration": 52,
    "start_time": "2024-08-08T12:36:39.697Z"
   },
   {
    "duration": 52,
    "start_time": "2024-08-08T12:36:39.750Z"
   },
   {
    "duration": 55,
    "start_time": "2024-08-08T12:36:39.804Z"
   },
   {
    "duration": 106,
    "start_time": "2024-08-08T12:36:39.861Z"
   },
   {
    "duration": 87,
    "start_time": "2024-08-08T12:36:39.970Z"
   },
   {
    "duration": 52,
    "start_time": "2024-08-08T12:36:40.059Z"
   },
   {
    "duration": 59,
    "start_time": "2024-08-08T12:36:40.112Z"
   },
   {
    "duration": 107,
    "start_time": "2024-08-08T12:36:40.173Z"
   },
   {
    "duration": 56,
    "start_time": "2024-08-08T12:38:40.889Z"
   },
   {
    "duration": 92,
    "start_time": "2024-08-08T12:42:07.425Z"
   },
   {
    "duration": 81,
    "start_time": "2024-08-08T12:42:37.830Z"
   },
   {
    "duration": 82,
    "start_time": "2024-08-08T12:42:56.720Z"
   },
   {
    "duration": 59,
    "start_time": "2024-08-08T12:45:00.278Z"
   },
   {
    "duration": 59,
    "start_time": "2024-08-08T12:45:34.278Z"
   },
   {
    "duration": 172,
    "start_time": "2024-08-08T12:46:37.232Z"
   },
   {
    "duration": 83,
    "start_time": "2024-08-08T12:46:50.479Z"
   },
   {
    "duration": 55,
    "start_time": "2024-08-08T12:51:35.461Z"
   },
   {
    "duration": 55,
    "start_time": "2024-08-08T12:52:02.378Z"
   },
   {
    "duration": 82,
    "start_time": "2024-08-08T12:52:34.834Z"
   },
   {
    "duration": 511,
    "start_time": "2024-08-08T13:02:14.220Z"
   },
   {
    "duration": 6648,
    "start_time": "2024-08-08T13:02:14.733Z"
   },
   {
    "duration": 4,
    "start_time": "2024-08-08T13:02:21.383Z"
   },
   {
    "duration": 266,
    "start_time": "2024-08-08T13:02:21.388Z"
   },
   {
    "duration": 50,
    "start_time": "2024-08-08T13:02:21.655Z"
   },
   {
    "duration": 54,
    "start_time": "2024-08-08T13:02:21.706Z"
   },
   {
    "duration": 57,
    "start_time": "2024-08-08T13:02:21.763Z"
   },
   {
    "duration": 53,
    "start_time": "2024-08-08T13:02:21.822Z"
   },
   {
    "duration": 55,
    "start_time": "2024-08-08T13:02:21.877Z"
   },
   {
    "duration": 50,
    "start_time": "2024-08-08T13:02:21.935Z"
   },
   {
    "duration": 68,
    "start_time": "2024-08-08T13:02:21.987Z"
   },
   {
    "duration": 55,
    "start_time": "2024-08-08T13:02:22.057Z"
   },
   {
    "duration": 54,
    "start_time": "2024-08-08T13:02:22.113Z"
   },
   {
    "duration": 49,
    "start_time": "2024-08-08T13:02:22.169Z"
   },
   {
    "duration": 56,
    "start_time": "2024-08-08T13:02:22.220Z"
   },
   {
    "duration": 51,
    "start_time": "2024-08-08T13:02:22.278Z"
   },
   {
    "duration": 50,
    "start_time": "2024-08-08T13:02:22.331Z"
   },
   {
    "duration": 52,
    "start_time": "2024-08-08T13:02:22.383Z"
   },
   {
    "duration": 60,
    "start_time": "2024-08-08T13:02:22.437Z"
   },
   {
    "duration": 97,
    "start_time": "2024-08-08T13:02:22.500Z"
   },
   {
    "duration": 50,
    "start_time": "2024-08-08T13:02:22.600Z"
   },
   {
    "duration": 56,
    "start_time": "2024-08-08T13:02:22.651Z"
   },
   {
    "duration": 84,
    "start_time": "2024-08-08T13:02:22.709Z"
   },
   {
    "duration": 496,
    "start_time": "2024-08-08T13:26:03.288Z"
   },
   {
    "duration": 23310,
    "start_time": "2024-08-08T13:26:03.786Z"
   },
   {
    "duration": 3,
    "start_time": "2024-08-08T13:26:27.098Z"
   },
   {
    "duration": 56,
    "start_time": "2024-08-08T13:26:27.103Z"
   },
   {
    "duration": 8,
    "start_time": "2024-08-08T13:26:27.161Z"
   },
   {
    "duration": 15,
    "start_time": "2024-08-08T13:26:27.170Z"
   },
   {
    "duration": 9,
    "start_time": "2024-08-08T13:26:27.187Z"
   },
   {
    "duration": 9,
    "start_time": "2024-08-08T13:26:27.197Z"
   },
   {
    "duration": 14,
    "start_time": "2024-08-08T13:26:27.207Z"
   },
   {
    "duration": 8,
    "start_time": "2024-08-08T13:26:27.223Z"
   },
   {
    "duration": 13,
    "start_time": "2024-08-08T13:26:27.233Z"
   },
   {
    "duration": 11,
    "start_time": "2024-08-08T13:26:27.247Z"
   },
   {
    "duration": 23,
    "start_time": "2024-08-08T13:26:27.259Z"
   },
   {
    "duration": 8,
    "start_time": "2024-08-08T13:26:27.283Z"
   },
   {
    "duration": 11,
    "start_time": "2024-08-08T13:26:27.293Z"
   },
   {
    "duration": 16,
    "start_time": "2024-08-08T13:26:27.305Z"
   },
   {
    "duration": 7,
    "start_time": "2024-08-08T13:26:27.322Z"
   },
   {
    "duration": 11,
    "start_time": "2024-08-08T13:26:27.330Z"
   },
   {
    "duration": 7,
    "start_time": "2024-08-08T13:26:27.343Z"
   },
   {
    "duration": 30,
    "start_time": "2024-08-08T13:26:27.352Z"
   },
   {
    "duration": 10,
    "start_time": "2024-08-08T13:26:27.384Z"
   },
   {
    "duration": 15,
    "start_time": "2024-08-08T13:26:27.395Z"
   },
   {
    "duration": 43,
    "start_time": "2024-08-08T13:26:27.412Z"
   },
   {
    "duration": 25,
    "start_time": "2024-08-08T13:26:53.511Z"
   }
  ],
  "kernelspec": {
   "display_name": "Python 3 (ipykernel)",
   "language": "python",
   "name": "python3"
  },
  "language_info": {
   "codemirror_mode": {
    "name": "ipython",
    "version": 3
   },
   "file_extension": ".py",
   "mimetype": "text/x-python",
   "name": "python",
   "nbconvert_exporter": "python",
   "pygments_lexer": "ipython3",
   "version": "3.11.5"
  },
  "toc": {
   "base_numbering": 1,
   "nav_menu": {},
   "number_sections": true,
   "sideBar": true,
   "skip_h1_title": true,
   "title_cell": "Table of Contents",
   "title_sidebar": "Contents",
   "toc_cell": false,
   "toc_position": {},
   "toc_section_display": true,
   "toc_window_display": false
  }
 },
 "nbformat": 4,
 "nbformat_minor": 4
}
